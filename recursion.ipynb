{
 "cells": [
  {
   "cell_type": "code",
   "execution_count": 1,
   "id": "54474833-cce0-4b93-b45f-5b05b7cbd7a7",
   "metadata": {},
   "outputs": [],
   "source": [
    "# it is a mathmatical puzzle game in which we use three identical rods and n disks, all of the different sizes. the discs are arranged in the first rod\n",
    "# such that the largest disc is placed at the bottom and the smallest at the top. To solve the puzzle, one needs to arrange the disc in the same order \n",
    "# in the last rod via the middle rod."
   ]
  },
  {
   "cell_type": "code",
   "execution_count": 2,
   "id": "75a85b48-0a61-489a-8a4d-b75e0367a3e5",
   "metadata": {},
   "outputs": [],
   "source": [
    "# Rules of Tower of Hanoi\n",
    "#. we can move only one disc at any given time \n",
    "#. Only the disc which is at thr top at the top can be moved and placed ontop at any other rod.\n",
    "#. A disc can be placed on top of a bigger disc only."
   ]
  },
  {
   "cell_type": "code",
   "execution_count": 3,
   "id": "d221793a-d068-48ed-a94e-a109702ee82f",
   "metadata": {},
   "outputs": [],
   "source": [
    "# Recursion = Function that calls itself from within helps to visualize a complex problem into basic steps, which can be solved more easily iteratively\n",
    "# or recursively."
   ]
  },
  {
   "cell_type": "code",
   "execution_count": 5,
   "id": "c7749b00-bc6a-4c65-a7df-67a757c29c95",
   "metadata": {},
   "outputs": [
    {
     "name": "stdout",
     "output_type": "stream",
     "text": [
      "10\n"
     ]
    }
   ],
   "source": [
    "arr = [1,2,3,4,]\n",
    "print(sum(arr))"
   ]
  },
  {
   "cell_type": "code",
   "execution_count": 10,
   "id": "fb6977df-e051-4faf-a5b3-bb8183a6397c",
   "metadata": {},
   "outputs": [
    {
     "name": "stdin",
     "output_type": "stream",
     "text": [
      "enter n :  5\n",
      "enter elements 4\n",
      "enter elements 5\n",
      "enter elements 3\n",
      "enter elements 2\n",
      "enter elements 7\n"
     ]
    },
    {
     "name": "stdout",
     "output_type": "stream",
     "text": [
      "result:  21\n"
     ]
    }
   ],
   "source": [
    "arr = []\n",
    "n = int(input(\"enter n : \"))\n",
    "\n",
    "for i in range ( n):\n",
    "    elements = int(input(\"enter elements\"))\n",
    "    arr.append(elements)\n",
    "    \n",
    "sum = 0\n",
    "for i in arr:\n",
    "    sum += i\n",
    "    \n",
    "print(\"result: \", sum)    "
   ]
  },
  {
   "cell_type": "code",
   "execution_count": 11,
   "id": "e0ed8488-d6eb-4dde-9945-1568c77c10bd",
   "metadata": {},
   "outputs": [
    {
     "name": "stdout",
     "output_type": "stream",
     "text": [
      "Largest Element : 192\n"
     ]
    }
   ],
   "source": [
    "arr = [8,24,192,65,47]\n",
    "n = len(arr)\n",
    "maximum = arr[0]\n",
    "for m in range(1,n):\n",
    "    if arr[m] > maximum:\n",
    "        maximum = arr[m]\n",
    "print(\"Largest Element :\", maximum)        "
   ]
  },
  {
   "cell_type": "code",
   "execution_count": null,
   "id": "ef79ab81-def8-49c7-ad49-8ba6b7fc8b5d",
   "metadata": {},
   "outputs": [],
   "source": []
  }
 ],
 "metadata": {
  "kernelspec": {
   "display_name": "Python 3 (ipykernel)",
   "language": "python",
   "name": "python3"
  },
  "language_info": {
   "codemirror_mode": {
    "name": "ipython",
    "version": 3
   },
   "file_extension": ".py",
   "mimetype": "text/x-python",
   "name": "python",
   "nbconvert_exporter": "python",
   "pygments_lexer": "ipython3",
   "version": "3.10.8"
  }
 },
 "nbformat": 4,
 "nbformat_minor": 5
}
